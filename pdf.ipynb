{
 "cells": [
  {
   "cell_type": "markdown",
   "metadata": {},
   "source": [
    "# Statistical Distributions and Probability Estimation"
   ]
  },
  {
   "cell_type": "markdown",
   "metadata": {},
   "source": [
    "## Probability Density Function (PDF)\n",
    "\n",
    "**When to Use**: For continuous variables.\n",
    "\n",
    "**What It Does**: Describes the likelihood of a continuous random variable taking on a specific value.\n",
    "\n",
    "**Important Note**: The value of the PDF at a specific point is not a probability but rather a density. To get a probability, you need to look at an interval (area under the curve).\n",
    "\n",
    "**Example**: Heights of people, where height can take any value within a range (like 150 cm to 200 cm)."
   ]
  },
  {
   "cell_type": "markdown",
   "metadata": {},
   "source": [
    "## 1. Calculating the PDF from a Dataset\n",
    "\n",
    "To calculate the Probability Density Function (PDF) from a dataset containing real-valued random variables, we can use a technique called Kernel Density Estimation (KDE). Here's an example using Python with a sample dataset."
   ]
  },
  {
   "cell_type": "code",
   "execution_count": null,
   "metadata": {
    "vscode": {
     "languageId": "plaintext"
    }
   },
   "outputs": [],
   "source": [
    "import numpy as np\n",
    "import matplotlib.pyplot as plt\n",
    "from scipy.stats import gaussian_kde\n",
    "\n",
    "# Sample dataset\n",
    "data = np.random.normal(loc=0, scale=1, size=1000)\n",
    "\n",
    "# Calculate the PDF using Kernel Density Estimation\n",
    "kde = gaussian_kde(data)\n",
    "x = np.linspace(min(data), max(data), 1000)\n",
    "pdf = kde(x)\n",
    "\n",
    "# Plot the PDF\n",
    "plt.plot(x, pdf, label='Estimated PDF')\n",
    "plt.hist(data, bins=30, density=True, alpha=0.5, label='Histogram')\n",
    "plt.title('PDF Estimation using KDE')\n",
    "plt.xlabel('Value')\n",
    "plt.ylabel('Density')\n",
    "plt.legend()\n",
    "plt.show()\n"
   ]
  },
  {
   "cell_type": "markdown",
   "metadata": {},
   "source": [
    "## Differentiating Between Probability and Probability Density\n",
    "\n",
    "**Probability**: This is a measure of the likelihood that a given event will occur. For discrete variables, it's straightforward to calculate the probability of a specific outcome.\n",
    "\n",
    "Example: The probability of rolling a 3 on a six-sided die is \n",
    "1\n",
    "6\n",
    "6\n",
    "1\n",
    "**Probability Density**: For continuous variables, instead of calculating the probability of a specific outcome, we calculate the probability density. The PDF gives us a relative likelihood of the variable falling within a particular range.\n",
    "\n",
    "Example: The height of a person can be any real number. Instead of calculating the probability of a person being exactly 170 cm tall, we look at the probability density around 170 cm."
   ]
  },
  {
   "cell_type": "markdown",
   "metadata": {},
   "source": [
    "## Why It Is Not Possible to Calculate the Probability for a Specific Point with Continuous Variables\n",
    "\n",
    "For continuous variables, the probability of the variable taking any specific exact value is zero. This is because there are infinitely many possible values the variable can take within any range. Instead, we calculate the probability that the variable falls within an interval.\n",
    "\n",
    "**summary**:\n",
    "\n",
    "* With a few choices, you can calculate the chance of picking one.\n",
    "* With endless choices, the chance of picking one specific spot is so small, it's basically zero.\n",
    "\n",
    "\n",
    "\n",
    "\n"
   ]
  },
  {
   "cell_type": "markdown",
   "metadata": {},
   "source": [
    "## Estimating Probabilities for Continuous Variables by Using Interpolation\n",
    "\n",
    "To estimate probabilities for continuous variables, we can use interpolation on the PDF\n",
    "\n",
    "**Continuous Variables and Probabilities**\n",
    "\n",
    "First, let's remember that for continuous variables, we don't talk about the probability of hitting one exact point. Instead, we talk about the probability of hitting a range of points.\n",
    "\n",
    "**Interpolation Basics**\n",
    "\n",
    "Interpolation is a way of estimating values between known data points. Imagine you have a smooth curve (like a line graph), and you know some points on that curve. Interpolation helps you guess the points in between."
   ]
  },
  {
   "cell_type": "code",
   "execution_count": null,
   "metadata": {
    "vscode": {
     "languageId": "plaintext"
    }
   },
   "outputs": [],
   "source": [
    "from scipy.integrate import simps\n",
    "\n",
    "# Example interval\n",
    "a, b = -0.5, 0.5\n",
    "\n",
    "# PDF values for the interval\n",
    "pdf_values = kde(x)\n",
    "\n",
    "# Find the indices corresponding to the interval\n",
    "indices = np.where((x >= a) & (x <= b))[0]\n",
    "\n",
    "# Estimate the probability using numerical integration (Simpson's rule)\n",
    "estimated_probability = simps(pdf_values[indices], x[indices])\n",
    "\n",
    "print(f\"Estimated probability of falling between {a} and {b} is: {estimated_probability}\")\n"
   ]
  },
  {
   "cell_type": "markdown",
   "metadata": {},
   "source": []
  },
  {
   "cell_type": "markdown",
   "metadata": {},
   "source": []
  },
  {
   "cell_type": "markdown",
   "metadata": {},
   "source": []
  },
  {
   "cell_type": "markdown",
   "metadata": {},
   "source": []
  },
  {
   "cell_type": "markdown",
   "metadata": {},
   "source": []
  }
 ],
 "metadata": {
  "language_info": {
   "name": "python"
  }
 },
 "nbformat": 4,
 "nbformat_minor": 2
}
